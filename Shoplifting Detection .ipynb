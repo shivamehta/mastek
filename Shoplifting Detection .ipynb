{
  "nbformat": 4,
  "nbformat_minor": 0,
  "metadata": {
    "colab": {
      "name": "Shoplifting.ipynb",
      "provenance": [],
      "collapsed_sections": [],
      "machine_shape": "hm",
      "authorship_tag": "ABX9TyP5k4BFM1fia4DSAureQbIR",
      "include_colab_link": true
    },
    "kernelspec": {
      "display_name": "Python 3",
      "name": "python3"
    },
    "language_info": {
      "name": "python"
    },
    "accelerator": "TPU"
  },
  "cells": [
    {
      "cell_type": "markdown",
      "metadata": {
        "id": "view-in-github",
        "colab_type": "text"
      },
      "source": [
        "<a href=\"https://colab.research.google.com/github/shivamehta/mastek/blob/master/Shoplifting%20Detection%20.ipynb\" target=\"_parent\"><img src=\"https://colab.research.google.com/assets/colab-badge.svg\" alt=\"Open In Colab\"/></a>"
      ]
    },
    {
      "cell_type": "markdown",
      "metadata": {
        "id": "jLBBdF2rgnrf"
      },
      "source": [
        "###**Prerequisites**"
      ]
    },
    {
      "cell_type": "code",
      "metadata": {
        "colab": {
          "resources": {
            "http://localhost:8080/nbextensions/google.colab/files.js": {
              "data": "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",
              "ok": true,
              "headers": [
                [
                  "content-type",
                  "application/javascript"
                ]
              ],
              "status": 200,
              "status_text": ""
            }
          },
          "base_uri": "https://localhost:8080/",
          "height": 89
        },
        "id": "32v_Qv4F3M4e",
        "outputId": "51803e72-25ad-4230-e660-4b1134410bcf"
      },
      "source": [
        "from google.colab import files\n",
        "files.upload()"
      ],
      "execution_count": 1,
      "outputs": [
        {
          "output_type": "display_data",
          "data": {
            "text/html": [
              "\n",
              "     <input type=\"file\" id=\"files-98504fa7-2f43-4877-8605-b5b079ff113f\" name=\"files[]\" multiple disabled\n",
              "        style=\"border:none\" />\n",
              "     <output id=\"result-98504fa7-2f43-4877-8605-b5b079ff113f\">\n",
              "      Upload widget is only available when the cell has been executed in the\n",
              "      current browser session. Please rerun this cell to enable.\n",
              "      </output>\n",
              "      <script src=\"/nbextensions/google.colab/files.js\"></script> "
            ],
            "text/plain": [
              "<IPython.core.display.HTML object>"
            ]
          },
          "metadata": {
            "tags": []
          }
        },
        {
          "output_type": "stream",
          "text": [
            "Saving kaggle.json to kaggle.json\n"
          ],
          "name": "stdout"
        },
        {
          "output_type": "execute_result",
          "data": {
            "text/plain": [
              "{'kaggle.json': b'{\"username\":\"shivammehtaa\",\"key\":\"ee5acf6160377f3431e32367b8e84bb9\"}'}"
            ]
          },
          "metadata": {
            "tags": []
          },
          "execution_count": 1
        }
      ]
    },
    {
      "cell_type": "code",
      "metadata": {
        "id": "brbuh42nzwv5"
      },
      "source": [
        "#!rm -rf '/content/try3'"
      ],
      "execution_count": null,
      "outputs": []
    },
    {
      "cell_type": "code",
      "metadata": {
        "colab": {
          "base_uri": "https://localhost:8080/"
        },
        "id": "NJNTYI23NYpa",
        "outputId": "16f0b964-2a36-40d6-b956-704f1f049e74"
      },
      "source": [
        "from google.colab import drive\n",
        "drive.mount('/content/gdrive')"
      ],
      "execution_count": null,
      "outputs": [
        {
          "output_type": "stream",
          "text": [
            "Mounted at /content/gdrive\n"
          ],
          "name": "stdout"
        }
      ]
    },
    {
      "cell_type": "code",
      "metadata": {
        "id": "VXTT8SqR3QJ0"
      },
      "source": [
        "! mkdir ~/.kaggle\n",
        "! cp kaggle.json ~/.kaggle/\n",
        "! chmod 600 ~/.kaggle/kaggle.json"
      ],
      "execution_count": 2,
      "outputs": []
    },
    {
      "cell_type": "code",
      "metadata": {
        "colab": {
          "base_uri": "https://localhost:8080/"
        },
        "id": "ZQlxE7qx3m8j",
        "outputId": "56df181a-eebc-46f2-b966-86bacb32320e"
      },
      "source": [
        "!kaggle datasets download -d mateohervas/dcsass-dataset"
      ],
      "execution_count": 3,
      "outputs": [
        {
          "output_type": "stream",
          "text": [
            "Downloading dcsass-dataset.zip to /content\n",
            " 99% 1.34G/1.35G [00:12<00:00, 144MB/s]\n",
            "100% 1.35G/1.35G [00:12<00:00, 113MB/s]\n"
          ],
          "name": "stdout"
        }
      ]
    },
    {
      "cell_type": "code",
      "metadata": {
        "colab": {
          "base_uri": "https://localhost:8080/"
        },
        "id": "aLfL-FUB3oc4",
        "outputId": "949bf155-30d4-44e7-dd7c-d780b643d02e"
      },
      "source": [
        "from zipfile import ZipFile\n",
        "file_name= 'dcsass-dataset.zip'\n",
        "with ZipFile (file_name,'r') as zip:\n",
        "  zip.extractall()\n",
        "  print('Done')"
      ],
      "execution_count": 4,
      "outputs": [
        {
          "output_type": "stream",
          "text": [
            "Done\n"
          ],
          "name": "stdout"
        }
      ]
    },
    {
      "cell_type": "code",
      "metadata": {
        "id": "HGE9VT5W3qXi"
      },
      "source": [
        "import shutil\n",
        "import os\n",
        "path='/content/DCSASS Dataset'\n",
        "arr = os.listdir(path)\n",
        "deletefolder=[]\n",
        "for i in range(len(arr)):\n",
        "  source_dir=path+'/'+arr[i]\n",
        "  deletefolder.append(source_dir)\n",
        "  target_dir = '/content/DCSASS Dataset'\n",
        "    \n",
        "  file_names = os.listdir(source_dir)\n",
        "    \n",
        "  for file_name in file_names:\n",
        "      shutil.move(os.path.join(source_dir, file_name), target_dir)\n",
        "\n",
        "\n",
        "for i in range(len(deletefolder)):\n",
        "  deletefolder[i]='\\'%s\\''% deletefolder[i]\n",
        "  !rm -rf deletefolder[i]"
      ],
      "execution_count": 5,
      "outputs": []
    },
    {
      "cell_type": "code",
      "metadata": {
        "colab": {
          "base_uri": "https://localhost:8080/"
        },
        "id": "61C5BjqB4B6j",
        "outputId": "f16c4478-c89b-4682-8a93-f46f0512c3ed"
      },
      "source": [
        "!pip install -q imageio\n",
        "!pip install -q opencv-python\n",
        "!pip install -q git+https://github.com/tensorflow/docs"
      ],
      "execution_count": 6,
      "outputs": [
        {
          "output_type": "stream",
          "text": [
            "\u001b[?25l\r\u001b[K     |▎                               | 10kB 18.0MB/s eta 0:00:01\r\u001b[K     |▋                               | 20kB 11.0MB/s eta 0:00:01\r\u001b[K     |█                               | 30kB 9.5MB/s eta 0:00:01\r\u001b[K     |█▎                              | 40kB 8.6MB/s eta 0:00:01\r\u001b[K     |█▋                              | 51kB 4.8MB/s eta 0:00:01\r\u001b[K     |██                              | 61kB 5.3MB/s eta 0:00:01\r\u001b[K     |██▎                             | 71kB 5.7MB/s eta 0:00:01\r\u001b[K     |██▋                             | 81kB 6.1MB/s eta 0:00:01\r\u001b[K     |███                             | 92kB 5.9MB/s eta 0:00:01\r\u001b[K     |███▏                            | 102kB 5.0MB/s eta 0:00:01\r\u001b[K     |███▌                            | 112kB 5.0MB/s eta 0:00:01\r\u001b[K     |███▉                            | 122kB 5.0MB/s eta 0:00:01\r\u001b[K     |████▏                           | 133kB 5.0MB/s eta 0:00:01\r\u001b[K     |████▌                           | 143kB 5.0MB/s eta 0:00:01\r\u001b[K     |████▉                           | 153kB 5.0MB/s eta 0:00:01\r\u001b[K     |█████▏                          | 163kB 5.0MB/s eta 0:00:01\r\u001b[K     |█████▌                          | 174kB 5.0MB/s eta 0:00:01\r\u001b[K     |█████▉                          | 184kB 5.0MB/s eta 0:00:01\r\u001b[K     |██████                          | 194kB 5.0MB/s eta 0:00:01\r\u001b[K     |██████▍                         | 204kB 5.0MB/s eta 0:00:01\r\u001b[K     |██████▊                         | 215kB 5.0MB/s eta 0:00:01\r\u001b[K     |███████                         | 225kB 5.0MB/s eta 0:00:01\r\u001b[K     |███████▍                        | 235kB 5.0MB/s eta 0:00:01\r\u001b[K     |███████▊                        | 245kB 5.0MB/s eta 0:00:01\r\u001b[K     |████████                        | 256kB 5.0MB/s eta 0:00:01\r\u001b[K     |████████▍                       | 266kB 5.0MB/s eta 0:00:01\r\u001b[K     |████████▊                       | 276kB 5.0MB/s eta 0:00:01\r\u001b[K     |█████████                       | 286kB 5.0MB/s eta 0:00:01\r\u001b[K     |█████████▎                      | 296kB 5.0MB/s eta 0:00:01\r\u001b[K     |█████████▋                      | 307kB 5.0MB/s eta 0:00:01\r\u001b[K     |██████████                      | 317kB 5.0MB/s eta 0:00:01\r\u001b[K     |██████████▎                     | 327kB 5.0MB/s eta 0:00:01\r\u001b[K     |██████████▋                     | 337kB 5.0MB/s eta 0:00:01\r\u001b[K     |███████████                     | 348kB 5.0MB/s eta 0:00:01\r\u001b[K     |███████████▎                    | 358kB 5.0MB/s eta 0:00:01\r\u001b[K     |███████████▋                    | 368kB 5.0MB/s eta 0:00:01\r\u001b[K     |████████████                    | 378kB 5.0MB/s eta 0:00:01\r\u001b[K     |████████████▏                   | 389kB 5.0MB/s eta 0:00:01\r\u001b[K     |████████████▌                   | 399kB 5.0MB/s eta 0:00:01\r\u001b[K     |████████████▉                   | 409kB 5.0MB/s eta 0:00:01\r\u001b[K     |█████████████▏                  | 419kB 5.0MB/s eta 0:00:01\r\u001b[K     |█████████████▌                  | 430kB 5.0MB/s eta 0:00:01\r\u001b[K     |█████████████▉                  | 440kB 5.0MB/s eta 0:00:01\r\u001b[K     |██████████████▏                 | 450kB 5.0MB/s eta 0:00:01\r\u001b[K     |██████████████▌                 | 460kB 5.0MB/s eta 0:00:01\r\u001b[K     |██████████████▉                 | 471kB 5.0MB/s eta 0:00:01\r\u001b[K     |███████████████                 | 481kB 5.0MB/s eta 0:00:01\r\u001b[K     |███████████████▍                | 491kB 5.0MB/s eta 0:00:01\r\u001b[K     |███████████████▊                | 501kB 5.0MB/s eta 0:00:01\r\u001b[K     |████████████████                | 512kB 5.0MB/s eta 0:00:01\r\u001b[K     |████████████████▍               | 522kB 5.0MB/s eta 0:00:01\r\u001b[K     |████████████████▊               | 532kB 5.0MB/s eta 0:00:01\r\u001b[K     |█████████████████               | 542kB 5.0MB/s eta 0:00:01\r\u001b[K     |█████████████████▍              | 552kB 5.0MB/s eta 0:00:01\r\u001b[K     |█████████████████▊              | 563kB 5.0MB/s eta 0:00:01\r\u001b[K     |██████████████████              | 573kB 5.0MB/s eta 0:00:01\r\u001b[K     |██████████████████▎             | 583kB 5.0MB/s eta 0:00:01\r\u001b[K     |██████████████████▋             | 593kB 5.0MB/s eta 0:00:01\r\u001b[K     |███████████████████             | 604kB 5.0MB/s eta 0:00:01\r\u001b[K     |███████████████████▎            | 614kB 5.0MB/s eta 0:00:01\r\u001b[K     |███████████████████▋            | 624kB 5.0MB/s eta 0:00:01\r\u001b[K     |████████████████████            | 634kB 5.0MB/s eta 0:00:01\r\u001b[K     |████████████████████▎           | 645kB 5.0MB/s eta 0:00:01\r\u001b[K     |████████████████████▋           | 655kB 5.0MB/s eta 0:00:01\r\u001b[K     |█████████████████████           | 665kB 5.0MB/s eta 0:00:01\r\u001b[K     |█████████████████████▏          | 675kB 5.0MB/s eta 0:00:01\r\u001b[K     |█████████████████████▌          | 686kB 5.0MB/s eta 0:00:01\r\u001b[K     |█████████████████████▉          | 696kB 5.0MB/s eta 0:00:01\r\u001b[K     |██████████████████████▏         | 706kB 5.0MB/s eta 0:00:01\r\u001b[K     |██████████████████████▌         | 716kB 5.0MB/s eta 0:00:01\r\u001b[K     |██████████████████████▉         | 727kB 5.0MB/s eta 0:00:01\r\u001b[K     |███████████████████████▏        | 737kB 5.0MB/s eta 0:00:01\r\u001b[K     |███████████████████████▌        | 747kB 5.0MB/s eta 0:00:01\r\u001b[K     |███████████████████████▉        | 757kB 5.0MB/s eta 0:00:01\r\u001b[K     |████████████████████████        | 768kB 5.0MB/s eta 0:00:01\r\u001b[K     |████████████████████████▍       | 778kB 5.0MB/s eta 0:00:01\r\u001b[K     |████████████████████████▊       | 788kB 5.0MB/s eta 0:00:01\r\u001b[K     |█████████████████████████       | 798kB 5.0MB/s eta 0:00:01\r\u001b[K     |█████████████████████████▍      | 808kB 5.0MB/s eta 0:00:01\r\u001b[K     |█████████████████████████▊      | 819kB 5.0MB/s eta 0:00:01\r\u001b[K     |██████████████████████████      | 829kB 5.0MB/s eta 0:00:01\r\u001b[K     |██████████████████████████▍     | 839kB 5.0MB/s eta 0:00:01\r\u001b[K     |██████████████████████████▊     | 849kB 5.0MB/s eta 0:00:01\r\u001b[K     |███████████████████████████     | 860kB 5.0MB/s eta 0:00:01\r\u001b[K     |███████████████████████████▎    | 870kB 5.0MB/s eta 0:00:01\r\u001b[K     |███████████████████████████▋    | 880kB 5.0MB/s eta 0:00:01\r\u001b[K     |████████████████████████████    | 890kB 5.0MB/s eta 0:00:01\r\u001b[K     |████████████████████████████▎   | 901kB 5.0MB/s eta 0:00:01\r\u001b[K     |████████████████████████████▋   | 911kB 5.0MB/s eta 0:00:01\r\u001b[K     |█████████████████████████████   | 921kB 5.0MB/s eta 0:00:01\r\u001b[K     |█████████████████████████████▎  | 931kB 5.0MB/s eta 0:00:01\r\u001b[K     |█████████████████████████████▋  | 942kB 5.0MB/s eta 0:00:01\r\u001b[K     |█████████████████████████████▉  | 952kB 5.0MB/s eta 0:00:01\r\u001b[K     |██████████████████████████████▏ | 962kB 5.0MB/s eta 0:00:01\r\u001b[K     |██████████████████████████████▌ | 972kB 5.0MB/s eta 0:00:01\r\u001b[K     |██████████████████████████████▉ | 983kB 5.0MB/s eta 0:00:01\r\u001b[K     |███████████████████████████████▏| 993kB 5.0MB/s eta 0:00:01\r\u001b[K     |███████████████████████████████▌| 1.0MB 5.0MB/s eta 0:00:01\r\u001b[K     |███████████████████████████████▉| 1.0MB 5.0MB/s eta 0:00:01\r\u001b[K     |████████████████████████████████| 1.0MB 5.0MB/s \n",
            "\u001b[?25h  Building wheel for tensorflow-docs (setup.py) ... \u001b[?25l\u001b[?25hdone\n"
          ],
          "name": "stdout"
        }
      ]
    },
    {
      "cell_type": "code",
      "metadata": {
        "colab": {
          "base_uri": "https://localhost:8080/"
        },
        "id": "pNIszpHuj2Id",
        "outputId": "615cafff-e4bb-4c1f-c552-a04fb784780f"
      },
      "source": [
        "!kaggle datasets download -d vasylcf/anomaly"
      ],
      "execution_count": 7,
      "outputs": [
        {
          "output_type": "stream",
          "text": [
            "Downloading anomaly.zip to /content\n",
            "100% 15.2G/15.2G [02:38<00:00, 132MB/s]\n",
            "100% 15.2G/15.2G [02:38<00:00, 103MB/s]\n"
          ],
          "name": "stdout"
        }
      ]
    },
    {
      "cell_type": "code",
      "metadata": {
        "colab": {
          "base_uri": "https://localhost:8080/"
        },
        "id": "dqHXIjfLlQqw",
        "outputId": "12ea9565-79ed-4dbd-9d61-074db19f12ba"
      },
      "source": [
        "from zipfile import ZipFile\n",
        "file_name= '/content/anomaly.zip'\n",
        "with ZipFile (file_name,'r') as zip:\n",
        "  zip.extractall()\n",
        "  print('Done')"
      ],
      "execution_count": 8,
      "outputs": [
        {
          "output_type": "stream",
          "text": [
            "Done\n"
          ],
          "name": "stdout"
        }
      ]
    },
    {
      "cell_type": "code",
      "metadata": {
        "colab": {
          "base_uri": "https://localhost:8080/"
        },
        "id": "03YErkG-lHI0",
        "outputId": "b6b5c88d-c9aa-4ce2-e49a-ff02257d1614"
      },
      "source": [
        "!kaggle datasets download -d alirakhmaev/ucf-crime-full"
      ],
      "execution_count": 9,
      "outputs": [
        {
          "output_type": "stream",
          "text": [
            "Downloading ucf-crime-full.zip to /content\n",
            "100% 24.4G/24.4G [04:19<00:00, 87.3MB/s]\n",
            "100% 24.4G/24.4G [04:19<00:00, 101MB/s] \n"
          ],
          "name": "stdout"
        }
      ]
    },
    {
      "cell_type": "code",
      "metadata": {
        "colab": {
          "base_uri": "https://localhost:8080/"
        },
        "id": "U97MYpmMlQ_k",
        "outputId": "1b5eac69-8191-4fd3-b362-ed92003a5f2c"
      },
      "source": [
        "from zipfile import ZipFile\n",
        "file_name= 'ucf-crime-full.zip'\n",
        "with ZipFile (file_name,'r') as zip:\n",
        "  zip.extractall()\n",
        "  print('Done')"
      ],
      "execution_count": null,
      "outputs": [
        {
          "output_type": "stream",
          "text": [
            "Done\n"
          ],
          "name": "stdout"
        }
      ]
    },
    {
      "cell_type": "markdown",
      "metadata": {
        "id": "qOGyiq58g6WW"
      },
      "source": [
        "###**Loading Videos from Path and convert videos into Frames**"
      ]
    },
    {
      "cell_type": "code",
      "metadata": {
        "id": "beCGZdaF4ChU"
      },
      "source": [
        "folder_path=[\n",
        "             '/content/Videos/Fighting'\n",
        "             ,'/content/Videos/Normal'\n",
        "                        \n",
        "             ,'/content/Videos/Shoplifting'\n",
        "             \n",
        "             ]"
      ],
      "execution_count": 10,
      "outputs": []
    },
    {
      "cell_type": "code",
      "metadata": {
        "id": "CWSu-J6uT1Hm"
      },
      "source": [
        "folder_path=['/content/dcsass dataset/DCSASS Dataset/Abuse'\n",
        "            ,'/content/dcsass dataset/DCSASS Dataset/Burglary'\n",
        "            ,'/content/dcsass dataset/DCSASS Dataset/Explosion'\n",
        "            ,'/content/dcsass dataset/DCSASS Dataset/Arrest'\n",
        "            ,'/content/dcsass dataset/DCSASS Dataset/Arson'\n",
        "            ,'/content/dcsass dataset/DCSASS Dataset/Shooting'\n",
        "            ,'/content/dcsass dataset/DCSASS Dataset/Vandalism'\n",
        "             \n",
        "             ]"
      ],
      "execution_count": 20,
      "outputs": []
    },
    {
      "cell_type": "code",
      "metadata": {
        "id": "j8iiXk5V4LHU"
      },
      "source": [
        "Paths=[]\n",
        "import os\n",
        "def tree_printer(root):\n",
        "    for root, dirs, files in os.walk(root):\n",
        "        for f in files:\n",
        "          if f.endswith(\".mp4\"):\n",
        "            Paths.append(os.path.join(root, f))\n",
        "for i in range(len(folder_path)):\n",
        "  tree_printer(folder_path[i])                "
      ],
      "execution_count": 11,
      "outputs": []
    },
    {
      "cell_type": "code",
      "metadata": {
        "colab": {
          "base_uri": "https://localhost:8080/"
        },
        "id": "Yd9fv8Yo4NV0",
        "outputId": "29e228b8-9116-4dea-fea8-0d5a252f178e"
      },
      "source": [
        "len(Paths)"
      ],
      "execution_count": 12,
      "outputs": [
        {
          "output_type": "execute_result",
          "data": {
            "text/plain": [
              "420"
            ]
          },
          "metadata": {
            "tags": []
          },
          "execution_count": 12
        }
      ]
    },
    {
      "cell_type": "code",
      "metadata": {
        "id": "uZGd25WDkPE4"
      },
      "source": [
        "import cv2\n",
        "for i in range(len(Paths)):\n",
        "    Path_name=Paths[i]\n",
        "    vidcap = cv2.VideoCapture(Path_name)\n",
        "    def getFrame(sec):\n",
        "        vidcap.set(cv2.CAP_PROP_POS_MSEC,sec*1000)\n",
        "        hasFrames,image = vidcap.read()\n",
        "        if hasFrames:\n",
        "            cv2.imwrite(Path_name+''+str(count)+\".jpg\",image)     # save frame as JPG file\n",
        "        return hasFrames\n",
        "    sec = 0\n",
        "    frameRate = 9.0 #//it will capture image in each 0.5 second\n",
        "    count=1\n",
        "    success = getFrame(sec)\n",
        "    while success:\n",
        "      if count<10:\n",
        "        count = count + 1\n",
        "        sec = sec + frameRate\n",
        "        sec = round(sec, 2)\n",
        "        success = getFrame(sec)\n",
        "        print('Success')\n",
        "      else:\n",
        "        break  "
      ],
      "execution_count": null,
      "outputs": []
    },
    {
      "cell_type": "code",
      "metadata": {
        "id": "-_utFEXzC8Uz"
      },
      "source": [
        "dc_image_path=[]\n",
        "ana_image_path=[]"
      ],
      "execution_count": 14,
      "outputs": []
    },
    {
      "cell_type": "code",
      "metadata": {
        "id": "-yBeNi9s4fb6"
      },
      "source": [
        "import os\n",
        "\n",
        "def getimagepath(root):\n",
        "    for root, dirs, files in os.walk(root):\n",
        "        for f in files:\n",
        "            if f.endswith(\".jpg\"): \n",
        "                dc_image_path.append(os.path.join(root, f)) \n",
        "for i in range(len(folder_path)):\n",
        "  getimagepath(folder_path[i])"
      ],
      "execution_count": 24,
      "outputs": []
    },
    {
      "cell_type": "code",
      "metadata": {
        "colab": {
          "base_uri": "https://localhost:8080/"
        },
        "id": "haklIwJQ2Wjb",
        "outputId": "26e6d6de-e194-4f3a-87fc-5d33d6534115"
      },
      "source": [
        "len(ana_image_path)"
      ],
      "execution_count": 25,
      "outputs": [
        {
          "output_type": "execute_result",
          "data": {
            "text/plain": [
              "2860"
            ]
          },
          "metadata": {
            "tags": []
          },
          "execution_count": 25
        }
      ]
    },
    {
      "cell_type": "code",
      "metadata": {
        "colab": {
          "base_uri": "https://localhost:8080/"
        },
        "id": "EkIMomwi0gmt",
        "outputId": "19fa3a69-2e6a-4b9d-a884-502edb5427b4"
      },
      "source": [
        "len(dc_image_path)"
      ],
      "execution_count": 26,
      "outputs": [
        {
          "output_type": "execute_result",
          "data": {
            "text/plain": [
              "7104"
            ]
          },
          "metadata": {
            "tags": []
          },
          "execution_count": 26
        }
      ]
    },
    {
      "cell_type": "code",
      "metadata": {
        "id": "_ZPA6pRg4iFa"
      },
      "source": [
        "from keras.models import Sequential\n",
        "from keras.layers import Dense, Dropout, Conv2D, MaxPool2D, Flatten\n",
        "from keras.utils import np_utils\n",
        "from keras.preprocessing.image import load_img\n",
        "import cv2\n",
        "from sklearn.model_selection import train_test_split"
      ],
      "execution_count": 16,
      "outputs": []
    },
    {
      "cell_type": "code",
      "metadata": {
        "id": "NWIxdx-W4lLr"
      },
      "source": [
        "from absl import logging\n",
        "\n",
        "import tensorflow as tf\n",
        "import tensorflow_hub as hub\n",
        "from tensorflow_docs.vis import embed\n",
        "\n",
        "logging.set_verbosity(logging.ERROR)\n",
        "\n",
        "# Some modules to help with reading the UCF101 dataset.\n",
        "import random\n",
        "import re\n",
        "import os\n",
        "import tempfile\n",
        "import ssl\n",
        "import cv2\n",
        "import numpy as np\n",
        "import pandas as pd\n",
        "# Some modules to display an animation using imageio.\n",
        "import imageio\n",
        "from IPython import display\n",
        "\n",
        "from urllib import request  # requires python3"
      ],
      "execution_count": 17,
      "outputs": []
    },
    {
      "cell_type": "code",
      "metadata": {
        "id": "xfBbz1k9WP7b"
      },
      "source": [
        "data=[]\n",
        "lables=[]\n",
        "img_array=[]"
      ],
      "execution_count": 18,
      "outputs": []
    },
    {
      "cell_type": "code",
      "metadata": {
        "id": "VpN8O2h34nt0"
      },
      "source": [
        "\n",
        "for imagepath in dc_image_path:\n",
        "    # extract the class label from the filename\n",
        "    img=load_img(imagepath)\n",
        "    img_arr = cv2.imread(imagepath)\n",
        "    img_arr = cv2.resize(img_arr,(320,240))\n",
        "    label = imagepath.split(os.path.sep)[-3]\n",
        "\n",
        "    img_array.append(img_arr)  \n",
        "    data.append(img)\n",
        "    lables.append(label)"
      ],
      "execution_count": 27,
      "outputs": []
    },
    {
      "cell_type": "code",
      "metadata": {
        "id": "w8o4CNFg4p_b"
      },
      "source": [
        "lables_ohe=[]\n",
        "n=[]\n",
        "for i in range (len(lables)):\n",
        "  if lables[i]=='Shoplifting':\n",
        "    lables_ohe.append(0)  \n",
        "  elif lables[i]=='Fighting':\n",
        "    lables_ohe.append(1)\n",
        "  elif lables[i]=='Normal':\n",
        "    lables_ohe.append(2)\n",
        "  elif lables[i]=='Abuse':\n",
        "    lables_ohe.append(3)\n",
        "  elif lables[i]=='Arrest':\n",
        "    lables_ohe.append(4)\n",
        "  elif lables[i]=='Shooting':\n",
        "    lables_ohe.append(5)\n",
        "  elif lables[i]=='Explosion':\n",
        "    lables_ohe.append(6)  \n",
        "  elif lables[i]=='Burglary':\n",
        "    lables_ohe.append(7)\n",
        "  elif lables[i]=='Arson':\n",
        "    lables_ohe.append(8)\n",
        "  elif lables[i]=='Shooting':\n",
        "    lables_ohe.append(9)\n",
        "  elif lables[i]=='Vandalism':\n",
        "    lables_ohe.append(10)\n",
        "  else:\n",
        "    n.append(i)\n",
        "    "
      ],
      "execution_count": 28,
      "outputs": []
    },
    {
      "cell_type": "code",
      "metadata": {
        "id": "KN3PuVXrOMo4"
      },
      "source": [
        "classes = [\"Shoplifting\",\"Normal\",\"Normal\",\"Normal\",\"Normal\",\"Normal\",\"Normal\",\"Normal\",\"Normal\",\"Normal\",\"Normal\"]"
      ],
      "execution_count": 29,
      "outputs": []
    },
    {
      "cell_type": "code",
      "metadata": {
        "colab": {
          "base_uri": "https://localhost:8080/"
        },
        "id": "7shkuL9y4Y08",
        "outputId": "59373778-9616-4aa1-95b4-38ac68cab933"
      },
      "source": [
        "len(lables_ohe)"
      ],
      "execution_count": 30,
      "outputs": [
        {
          "output_type": "execute_result",
          "data": {
            "text/plain": [
              "9964"
            ]
          },
          "metadata": {
            "tags": []
          },
          "execution_count": 30
        }
      ]
    },
    {
      "cell_type": "code",
      "metadata": {
        "colab": {
          "base_uri": "https://localhost:8080/"
        },
        "id": "kaleXGKK7M-J",
        "outputId": "f5e0b1b4-ddae-4dc0-b8d0-c5e713bbd56e"
      },
      "source": [
        "len(lables)"
      ],
      "execution_count": 31,
      "outputs": [
        {
          "output_type": "execute_result",
          "data": {
            "text/plain": [
              "9964"
            ]
          },
          "metadata": {
            "tags": []
          },
          "execution_count": 31
        }
      ]
    },
    {
      "cell_type": "code",
      "metadata": {
        "colab": {
          "base_uri": "https://localhost:8080/"
        },
        "id": "2DxWg6DUBqUA",
        "outputId": "426a9549-4e8b-45c3-d669-69b3fd959263"
      },
      "source": [
        "n"
      ],
      "execution_count": 32,
      "outputs": [
        {
          "output_type": "execute_result",
          "data": {
            "text/plain": [
              "[]"
            ]
          },
          "metadata": {
            "tags": []
          },
          "execution_count": 32
        }
      ]
    },
    {
      "cell_type": "code",
      "metadata": {
        "colab": {
          "base_uri": "https://localhost:8080/",
          "height": 35
        },
        "id": "DznpcW-3V813",
        "outputId": "b5fc8d4a-1854-4130-d618-484a26c5ed64"
      },
      "source": [
        "lables[4810]"
      ],
      "execution_count": 33,
      "outputs": [
        {
          "output_type": "execute_result",
          "data": {
            "application/vnd.google.colaboratory.intrinsic+json": {
              "type": "string"
            },
            "text/plain": [
              "'Burglary'"
            ]
          },
          "metadata": {
            "tags": []
          },
          "execution_count": 33
        }
      ]
    },
    {
      "cell_type": "code",
      "metadata": {
        "colab": {
          "base_uri": "https://localhost:8080/"
        },
        "id": "UTrZMFJRWsGT",
        "outputId": "4fafc2d9-fc5d-472e-a08d-11324eaf2378"
      },
      "source": [
        "img_array[1900].shape"
      ],
      "execution_count": 34,
      "outputs": [
        {
          "output_type": "execute_result",
          "data": {
            "text/plain": [
              "(240, 320, 3)"
            ]
          },
          "metadata": {
            "tags": []
          },
          "execution_count": 34
        }
      ]
    },
    {
      "cell_type": "code",
      "metadata": {
        "colab": {
          "base_uri": "https://localhost:8080/",
          "height": 257
        },
        "id": "P1clZvxK7Ups",
        "outputId": "7d88b8ef-1ef9-4ab1-99c5-c351c7f0e9bf"
      },
      "source": [
        "data[1]"
      ],
      "execution_count": 35,
      "outputs": [
        {
          "output_type": "execute_result",
          "data": {
            "image/png": "[encoded data removed]",
            "text/plain": [
              "<PIL.JpegImagePlugin.JpegImageFile image mode=RGB size=320x240 at 0x7F670DA5AFD0>"
            ]
          },
          "metadata": {
            "tags": []
          },
          "execution_count": 35
        }
      ]
    },
    {
      "cell_type": "markdown",
      "metadata": {
        "id": "nigRkPqChKxt"
      },
      "source": [
        "###**Model Training and Testing**"
      ]
    },
    {
      "cell_type": "code",
      "metadata": {
        "id": "mEOFeUrG7W6c"
      },
      "source": [
        "X_train,X_test, y_train, y_test = train_test_split(img_array,lables_ohe,test_size=0.2)"
      ],
      "execution_count": 36,
      "outputs": []
    },
    {
      "cell_type": "code",
      "metadata": {
        "colab": {
          "base_uri": "https://localhost:8080/"
        },
        "id": "VE4eIOe57ccg",
        "outputId": "ab6f753b-6e12-41d1-c3a1-356068d12c98"
      },
      "source": [
        "len(X_train)"
      ],
      "execution_count": 37,
      "outputs": [
        {
          "output_type": "execute_result",
          "data": {
            "text/plain": [
              "7971"
            ]
          },
          "metadata": {
            "tags": []
          },
          "execution_count": 37
        }
      ]
    },
    {
      "cell_type": "code",
      "metadata": {
        "colab": {
          "base_uri": "https://localhost:8080/"
        },
        "id": "WryVmISw7eB0",
        "outputId": "cb21f380-8b52-44b6-8a18-87e7bddbd058"
      },
      "source": [
        "len(X_train)\n",
        "len(X_test)\n",
        "len(y_test)\n",
        "len(y_train)"
      ],
      "execution_count": 38,
      "outputs": [
        {
          "output_type": "execute_result",
          "data": {
            "text/plain": [
              "7971"
            ]
          },
          "metadata": {
            "tags": []
          },
          "execution_count": 38
        }
      ]
    },
    {
      "cell_type": "code",
      "metadata": {
        "colab": {
          "base_uri": "https://localhost:8080/"
        },
        "id": "iX7mELXH7fZv",
        "outputId": "2b16cade-29d0-4d57-f6ff-a2a942b32d37"
      },
      "source": [
        "len(y_train)"
      ],
      "execution_count": 39,
      "outputs": [
        {
          "output_type": "execute_result",
          "data": {
            "text/plain": [
              "7971"
            ]
          },
          "metadata": {
            "tags": []
          },
          "execution_count": 39
        }
      ]
    },
    {
      "cell_type": "code",
      "metadata": {
        "id": "_3L8BoDJ7g69"
      },
      "source": [
        "X_train=np.array(X_train)\n",
        "X_test=np.array(X_test)"
      ],
      "execution_count": 40,
      "outputs": []
    },
    {
      "cell_type": "code",
      "metadata": {
        "id": "-EtLKhjq7koe"
      },
      "source": [
        "X_train = X_train.reshape(X_train.shape[0], 240, 320, 3)\n",
        "X_test = X_test.reshape(X_test.shape[0], 240, 320, 3)"
      ],
      "execution_count": 41,
      "outputs": []
    },
    {
      "cell_type": "code",
      "metadata": {
        "colab": {
          "base_uri": "https://localhost:8080/"
        },
        "id": "khb6_MRk7pdm",
        "outputId": "9c33d96f-1f2a-496a-b173-156173789f54"
      },
      "source": [
        "X_test[146].shape"
      ],
      "execution_count": 42,
      "outputs": [
        {
          "output_type": "execute_result",
          "data": {
            "text/plain": [
              "(240, 320, 3)"
            ]
          },
          "metadata": {
            "tags": []
          },
          "execution_count": 42
        }
      ]
    },
    {
      "cell_type": "code",
      "metadata": {
        "id": "ps8_pX6G7rcu"
      },
      "source": [
        "y_test=np.array(y_test)\n",
        "y_test = y_test.astype('uint8')\n",
        "y_train=np.array(y_train)\n",
        "y_train = y_train.astype('uint8')"
      ],
      "execution_count": 43,
      "outputs": []
    },
    {
      "cell_type": "code",
      "metadata": {
        "colab": {
          "base_uri": "https://localhost:8080/"
        },
        "id": "3FU-BZeQ7t2O",
        "outputId": "d31aba75-a9ee-4cdc-a5ac-1f52e8b4794c"
      },
      "source": [
        "y_train"
      ],
      "execution_count": 54,
      "outputs": [
        {
          "output_type": "execute_result",
          "data": {
            "text/plain": [
              "array([2, 5, 3, ..., 2, 3, 6], dtype=uint8)"
            ]
          },
          "metadata": {
            "tags": []
          },
          "execution_count": 54
        }
      ]
    },
    {
      "cell_type": "code",
      "metadata": {
        "colab": {
          "base_uri": "https://localhost:8080/"
        },
        "id": "osZc7Y7D7vhR",
        "outputId": "82996859-b544-437f-c360-25b9e018d35c"
      },
      "source": [
        "y_test.shape"
      ],
      "execution_count": 45,
      "outputs": [
        {
          "output_type": "execute_result",
          "data": {
            "text/plain": [
              "(1993,)"
            ]
          },
          "metadata": {
            "tags": []
          },
          "execution_count": 45
        }
      ]
    },
    {
      "cell_type": "code",
      "metadata": {
        "colab": {
          "base_uri": "https://localhost:8080/"
        },
        "id": "EHS6NlIM70B7",
        "outputId": "9056aea0-81df-4226-ce2c-8d6915ed424f"
      },
      "source": [
        "y_train.shape"
      ],
      "execution_count": 46,
      "outputs": [
        {
          "output_type": "execute_result",
          "data": {
            "text/plain": [
              "(7971,)"
            ]
          },
          "metadata": {
            "tags": []
          },
          "execution_count": 46
        }
      ]
    },
    {
      "cell_type": "code",
      "metadata": {
        "id": "MO4eyIue7163"
      },
      "source": [
        "\n",
        "X_train = X_train / 255.0\n",
        "X_test = X_test / 255.0"
      ],
      "execution_count": 47,
      "outputs": []
    },
    {
      "cell_type": "code",
      "metadata": {
        "id": "Vbgyqpde74Bh"
      },
      "source": [
        "import tensorflow as tf\n",
        "from tensorflow.keras import datasets, layers, models\n",
        "import matplotlib.pyplot as plt\n",
        "import numpy as np\n",
        "inputshape= (240, 320, 3)   "
      ],
      "execution_count": 48,
      "outputs": []
    },
    {
      "cell_type": "code",
      "metadata": {
        "id": "zPJfUqvjFO9V"
      },
      "source": [
        "cnn = models.Sequential([\n",
        "    layers.Conv2D(filters=32, kernel_size=(3, 3), activation='relu', input_shape=inputshape),\n",
        "    layers.MaxPooling2D((2, 2)),\n",
        "    \n",
        "    layers.Conv2D(filters=64, kernel_size=(3, 3), activation='relu'),\n",
        "    layers.MaxPooling2D((2, 2)),\n",
        "    \n",
        "    layers.Flatten(),\n",
        "    layers.Dense(64, activation='relu'),\n",
        "    layers.Dense(11, activation='softmax')\n",
        "])"
      ],
      "execution_count": 49,
      "outputs": []
    },
    {
      "cell_type": "code",
      "metadata": {
        "id": "njVKntPEFfmj"
      },
      "source": [
        "\n",
        "cnn.compile(optimizer='adam',\n",
        "              loss='sparse_categorical_crossentropy',\n",
        "              metrics=['accuracy'])"
      ],
      "execution_count": 50,
      "outputs": []
    },
    {
      "cell_type": "code",
      "metadata": {
        "colab": {
          "base_uri": "https://localhost:8080/"
        },
        "id": "wz9Qk9avFhmo",
        "outputId": "d9b1963c-5c6e-4b1b-e700-7abcd89e4294"
      },
      "source": [
        "cnn.fit(X_train, y_train, epochs=3)"
      ],
      "execution_count": 51,
      "outputs": [
        {
          "output_type": "stream",
          "text": [
            "Epoch 1/3\n",
            "250/250 [==============================] - 111s 442ms/step - loss: 0.7401 - accuracy: 0.8148\n",
            "Epoch 2/3\n",
            "250/250 [==============================] - 111s 446ms/step - loss: 0.0773 - accuracy: 0.9877\n",
            "Epoch 3/3\n",
            "250/250 [==============================] - 110s 440ms/step - loss: 0.0374 - accuracy: 0.9917\n"
          ],
          "name": "stdout"
        },
        {
          "output_type": "execute_result",
          "data": {
            "text/plain": [
              "<tensorflow.python.keras.callbacks.History at 0x7f670b36ed90>"
            ]
          },
          "metadata": {
            "tags": []
          },
          "execution_count": 51
        }
      ]
    },
    {
      "cell_type": "code",
      "metadata": {
        "id": "NzxxuhWSFjSz",
        "colab": {
          "base_uri": "https://localhost:8080/"
        },
        "outputId": "36a38b1e-e6dc-408f-f74e-2540d7be05f0"
      },
      "source": [
        "cnn.evaluate(X_test,y_test)"
      ],
      "execution_count": 52,
      "outputs": [
        {
          "output_type": "stream",
          "text": [
            "63/63 [==============================] - 4s 68ms/step - loss: 0.0984 - accuracy: 0.9804\n"
          ],
          "name": "stdout"
        },
        {
          "output_type": "execute_result",
          "data": {
            "text/plain": [
              "[0.09844344109296799, 0.9804314970970154]"
            ]
          },
          "metadata": {
            "tags": []
          },
          "execution_count": 52
        }
      ]
    },
    {
      "cell_type": "code",
      "metadata": {
        "colab": {
          "base_uri": "https://localhost:8080/"
        },
        "id": "bCFD8pX7JNqx",
        "outputId": "d03d1cf3-480c-4325-9173-aca5a10f155d"
      },
      "source": [
        "from sklearn.metrics import confusion_matrix , classification_report\n",
        "import numpy as np\n",
        "y_pred = cnn.predict(X_test)\n",
        "y_pred_classes = [np.argmax(element) for element in y_pred]\n",
        "\n",
        "print(\"Classification Report: \\n\", classification_report(y_test, y_pred_classes))"
      ],
      "execution_count": 53,
      "outputs": [
        {
          "output_type": "stream",
          "text": [
            "Classification Report: \n",
            "               precision    recall  f1-score   support\n",
            "\n",
            "           0       0.99      1.00      0.99       145\n",
            "           1       0.94      0.95      0.94        93\n",
            "           2       0.97      0.98      0.98       345\n",
            "           3       0.97      0.99      0.98       272\n",
            "           4       0.96      0.97      0.97       169\n",
            "           5       0.96      0.94      0.95       188\n",
            "           6       1.00      0.97      0.99       150\n",
            "           7       1.00      0.99      1.00       313\n",
            "           8       1.00      1.00      1.00       123\n",
            "          10       1.00      0.99      0.99       195\n",
            "\n",
            "    accuracy                           0.98      1993\n",
            "   macro avg       0.98      0.98      0.98      1993\n",
            "weighted avg       0.98      0.98      0.98      1993\n",
            "\n"
          ],
          "name": "stdout"
        }
      ]
    },
    {
      "cell_type": "markdown",
      "metadata": {
        "id": "4T7_4oGogRdM"
      },
      "source": [
        "###**Live Video**"
      ]
    },
    {
      "cell_type": "code",
      "metadata": {
        "id": "sRjvG3TGKSCT"
      },
      "source": [
        "from IPython.display import display, Javascript, Image\n",
        "from google.colab.output import eval_js\n",
        "from base64 import b64decode, b64encode\n",
        "import cv2\n",
        "import numpy as np\n",
        "import PIL\n",
        "import io\n",
        "import html\n",
        "import time\n",
        "from PIL import ImageFont, ImageDraw, Image\n",
        "from google.colab.patches import cv2_imshow"
      ],
      "execution_count": null,
      "outputs": []
    },
    {
      "cell_type": "code",
      "metadata": {
        "id": "1Sv8xL61KThc"
      },
      "source": [
        "def js_to_image(js_reply):\n",
        "  \"\"\"\n",
        "  Params:\n",
        "          js_reply: JavaScript object containing image from webcam\n",
        "  Returns:\n",
        "          img: OpenCV BGR image\n",
        "  \"\"\"\n",
        "  # decode base64 image\n",
        "  image_bytes = b64decode(js_reply.split(',')[1])\n",
        "  # convert bytes to numpy array\n",
        "  jpg_as_np = np.frombuffer(image_bytes, dtype=np.uint8)\n",
        "  # decode numpy array into OpenCV BGR image\n",
        "  img = cv2.imdecode(jpg_as_np, flags=1)\n",
        "\n",
        "  return img\n",
        "\n",
        "# function to convert OpenCV Rectangle bounding box image into base64 byte string to be overlayed on video stream\n",
        "def bbox_to_bytes(bbox_array):\n",
        "  \"\"\"\n",
        "  Params:\n",
        "          bbox_array: Numpy array (pixels) containing rectangle to overlay on video stream.\n",
        "  Returns:\n",
        "        bytes: Base64 image byte string\n",
        "  \"\"\"\n",
        "  # convert array into PIL image\n",
        "  bbox_PIL = PIL.Image.fromarray(bbox_array, 'RGBA')\n",
        "  iobuf = io.BytesIO()\n",
        "  # format bbox into png for return\n",
        "  bbox_PIL.save(iobuf, format='png')\n",
        "  # format return string\n",
        "  bbox_bytes = 'data:image/png;base64,{}'.format((str(b64encode(iobuf.getvalue()), 'utf-8')))\n",
        "\n",
        "  return bbox_bytes"
      ],
      "execution_count": null,
      "outputs": []
    },
    {
      "cell_type": "code",
      "metadata": {
        "id": "c3pNylYnKTk3"
      },
      "source": [
        "face_cascade = cv2.CascadeClassifier(cv2.samples.findFile(cv2.data.haarcascades + 'haarcascade_frontalface_default.xml'))"
      ],
      "execution_count": null,
      "outputs": []
    },
    {
      "cell_type": "code",
      "metadata": {
        "id": "jWtWAidwKToE"
      },
      "source": [
        "def video_stream():\n",
        "  js = Javascript('''\n",
        "    var video;\n",
        "    var div = null;\n",
        "    var stream;\n",
        "    var captureCanvas;\n",
        "    var imgElement;\n",
        "    var labelElement;\n",
        "    \n",
        "    var pendingResolve = null;\n",
        "    var shutdown = false;\n",
        "    \n",
        "    function removeDom() {\n",
        "       stream.getVideoTracks()[0].stop();\n",
        "       video.remove();\n",
        "       div.remove();\n",
        "       video = null;\n",
        "       div = null;\n",
        "       stream = null;\n",
        "       imgElement = null;\n",
        "       captureCanvas = null;\n",
        "       labelElement = null;\n",
        "    }\n",
        "    \n",
        "    function onAnimationFrame() {\n",
        "      if (!shutdown) {\n",
        "        window.requestAnimationFrame(onAnimationFrame);\n",
        "      }\n",
        "      if (pendingResolve) {\n",
        "        var result = \"\";\n",
        "        if (!shutdown) {\n",
        "          captureCanvas.getContext('2d').drawImage(video, 0, 0, 320, 240);\n",
        "          result = captureCanvas.toDataURL('image/jpeg', 0.8)\n",
        "        }\n",
        "        var lp = pendingResolve;\n",
        "        pendingResolve = null;\n",
        "        lp(result);\n",
        "      }\n",
        "    }\n",
        "    \n",
        "    async function createDom() {\n",
        "      if (div !== null) {\n",
        "        return stream;\n",
        "      }\n",
        "\n",
        "      div = document.createElement('div');\n",
        "      div.style.border = '2px solid black';\n",
        "      div.style.padding = '3px';\n",
        "      div.style.width = '100%';\n",
        "      div.style.maxWidth = '600px';\n",
        "      document.body.appendChild(div);\n",
        "      \n",
        "      const modelOut = document.createElement('div');\n",
        "      modelOut.innerHTML = \"<span>Status:</span>\";\n",
        "      labelElement = document.createElement('span');\n",
        "      labelElement.innerText = 'No data';\n",
        "      labelElement.style.fontWeight = 'bold';\n",
        "      modelOut.appendChild(labelElement);\n",
        "      div.appendChild(modelOut);\n",
        "           \n",
        "      video = document.createElement('video');\n",
        "      video.style.display = 'block';\n",
        "      video.width = div.clientWidth - 6;\n",
        "      video.setAttribute('playsinline', '');\n",
        "      video.onclick = () => { shutdown = true; };\n",
        "      stream = await navigator.mediaDevices.getUserMedia(\n",
        "          {video: { facingMode: \"environment\"}});\n",
        "      div.appendChild(video);\n",
        "\n",
        "      imgElement = document.createElement('img');\n",
        "      imgElement.style.position = 'absolute';\n",
        "      imgElement.style.zIndex = 1;\n",
        "      imgElement.onclick = () => { shutdown = true; };\n",
        "      div.appendChild(imgElement);\n",
        "      \n",
        "      const instruction = document.createElement('div');\n",
        "      instruction.innerHTML = \n",
        "          '<span style=\"color: red; font-weight: bold;\">' +\n",
        "          'When finished, click here or on the video to stop this demo</span>';\n",
        "      div.appendChild(instruction);\n",
        "      instruction.onclick = () => { shutdown = true; };\n",
        "      \n",
        "      video.srcObject = stream;\n",
        "      await video.play();\n",
        "\n",
        "      captureCanvas = document.createElement('canvas');\n",
        "      captureCanvas.width = 320; //video.videoWidth;\n",
        "      captureCanvas.height = 240; //video.videoHeight;\n",
        "      window.requestAnimationFrame(onAnimationFrame);\n",
        "      \n",
        "      return stream;\n",
        "    }\n",
        "    async function stream_frame(label, imgData) {\n",
        "      if (shutdown) {\n",
        "        removeDom();\n",
        "        shutdown = false;\n",
        "        return '';\n",
        "      }\n",
        "\n",
        "      var preCreate = Date.now();\n",
        "      stream = await createDom();\n",
        "      \n",
        "      var preShow = Date.now();\n",
        "      if (label != \"\") {\n",
        "        labelElement.innerHTML = label;\n",
        "      }\n",
        "            \n",
        "      if (imgData != \"\") {\n",
        "        var videoRect = video.getClientRects()[0];\n",
        "        imgElement.style.top = videoRect.top + \"px\";\n",
        "        imgElement.style.left = videoRect.left + \"px\";\n",
        "        imgElement.style.width = videoRect.width + \"px\";\n",
        "        imgElement.style.height = videoRect.height + \"px\";\n",
        "        imgElement.src = imgData;\n",
        "      }\n",
        "      \n",
        "      var preCapture = Date.now();\n",
        "      var result = await new Promise(function(resolve, reject) {\n",
        "        pendingResolve = resolve;\n",
        "      });\n",
        "      shutdown = false;\n",
        "      \n",
        "      return {'create': preShow - preCreate, \n",
        "              'show': preCapture - preShow, \n",
        "              'capture': Date.now() - preCapture,\n",
        "              'img': result};\n",
        "    }\n",
        "    ''')\n",
        "\n",
        "  display(js)\n",
        "  \n",
        "def video_frame(label, bbox):\n",
        "  data = eval_js('stream_frame(\"{}\", \"{}\")'.format(label, bbox))\n",
        "  return data\n",
        "\n",
        "def getlabel():\n",
        "  a=cnn.predict(img)\n",
        "  return a.argmax() "
      ],
      "execution_count": null,
      "outputs": []
    },
    {
      "cell_type": "code",
      "metadata": {
        "id": "c-LII5-5KTq8",
        "colab": {
          "base_uri": "https://localhost:8080/",
          "height": 17
        },
        "outputId": "d7085be8-1ee4-4379-90b9-c8c9c2f84b6e"
      },
      "source": [
        "video_stream()\n",
        "# label for video\n",
        "label_html = 'Capturing...'\n",
        "#label_html = '\\'%s\\''% classes[getlabel()]\n",
        "# initialze bounding box to empty\n",
        "bbox = ''\n",
        "count = 0\n",
        "name=\"Normal\" \n",
        "while True:\n",
        "    #label_html = '\\'%s\\''% classes[getlabel()]\n",
        "    js_reply = video_frame(name, bbox)\n",
        "    if not js_reply:\n",
        "        break\n",
        "\n",
        "    # convert JS response to OpenCV Image\n",
        "    img = js_to_image(js_reply[\"img\"])\n",
        "    img=img.reshape(1,240,320,3)\n",
        "    name=(classes[getlabel()])\n",
        "    img=img.reshape(240,320,3)\n",
        "    \n",
        "    # create transparent overlay for bounding box\n",
        "    bbox_array = np.zeros([240,320,4], dtype=np.uint8)\n",
        "\n",
        "    # grayscale image for face detection\n",
        "    gray = cv2.cvtColor(img, cv2.COLOR_RGB2GRAY)\n",
        "\n",
        "    # get face region coordinates\n",
        "    faces = face_cascade.detectMultiScale(gray)\n",
        "    # get face bounding box for overlay\n",
        "    for (x,y,w,h) in faces:\n",
        "      if name=='Normal':\n",
        "        bbox_array = cv2.rectangle(bbox_array,(x,y),(x+w,y+h),(0,255,0),2)\n",
        "      else :\n",
        "        bbox_array = cv2.rectangle(bbox_array,(x,y),(x+w,y+h),(255,0,0),2)  \n",
        "     \n",
        "    bbox_array[:,:,3] = (bbox_array.max(axis = 2) > 0 ).astype(int) * 255\n",
        "    # convert overlay of bbox into bytes\n",
        "    bbox_bytes = bbox_to_bytes(bbox_array)\n",
        "    # update bbox so next frame gets new overlay\n",
        "    bbox = bbox_bytes\n",
        "\n",
        "\n",
        "      \n",
        "          "
      ],
      "execution_count": null,
      "outputs": [
        {
          "output_type": "display_data",
          "data": {
            "application/javascript": [
              "\n",
              "    var video;\n",
              "    var div = null;\n",
              "    var stream;\n",
              "    var captureCanvas;\n",
              "    var imgElement;\n",
              "    var labelElement;\n",
              "    \n",
              "    var pendingResolve = null;\n",
              "    var shutdown = false;\n",
              "    \n",
              "    function removeDom() {\n",
              "       stream.getVideoTracks()[0].stop();\n",
              "       video.remove();\n",
              "       div.remove();\n",
              "       video = null;\n",
              "       div = null;\n",
              "       stream = null;\n",
              "       imgElement = null;\n",
              "       captureCanvas = null;\n",
              "       labelElement = null;\n",
              "    }\n",
              "    \n",
              "    function onAnimationFrame() {\n",
              "      if (!shutdown) {\n",
              "        window.requestAnimationFrame(onAnimationFrame);\n",
              "      }\n",
              "      if (pendingResolve) {\n",
              "        var result = \"\";\n",
              "        if (!shutdown) {\n",
              "          captureCanvas.getContext('2d').drawImage(video, 0, 0, 320, 240);\n",
              "          result = captureCanvas.toDataURL('image/jpeg', 0.8)\n",
              "        }\n",
              "        var lp = pendingResolve;\n",
              "        pendingResolve = null;\n",
              "        lp(result);\n",
              "      }\n",
              "    }\n",
              "    \n",
              "    async function createDom() {\n",
              "      if (div !== null) {\n",
              "        return stream;\n",
              "      }\n",
              "\n",
              "      div = document.createElement('div');\n",
              "      div.style.border = '2px solid black';\n",
              "      div.style.padding = '3px';\n",
              "      div.style.width = '100%';\n",
              "      div.style.maxWidth = '600px';\n",
              "      document.body.appendChild(div);\n",
              "      \n",
              "      const modelOut = document.createElement('div');\n",
              "      modelOut.innerHTML = \"<span>Status:</span>\";\n",
              "      labelElement = document.createElement('span');\n",
              "      labelElement.innerText = 'No data';\n",
              "      labelElement.style.fontWeight = 'bold';\n",
              "      modelOut.appendChild(labelElement);\n",
              "      div.appendChild(modelOut);\n",
              "           \n",
              "      video = document.createElement('video');\n",
              "      video.style.display = 'block';\n",
              "      video.width = div.clientWidth - 6;\n",
              "      video.setAttribute('playsinline', '');\n",
              "      video.onclick = () => { shutdown = true; };\n",
              "      stream = await navigator.mediaDevices.getUserMedia(\n",
              "          {video: { facingMode: \"environment\"}});\n",
              "      div.appendChild(video);\n",
              "\n",
              "      imgElement = document.createElement('img');\n",
              "      imgElement.style.position = 'absolute';\n",
              "      imgElement.style.zIndex = 1;\n",
              "      imgElement.onclick = () => { shutdown = true; };\n",
              "      div.appendChild(imgElement);\n",
              "      \n",
              "      const instruction = document.createElement('div');\n",
              "      instruction.innerHTML = \n",
              "          '<span style=\"color: red; font-weight: bold;\">' +\n",
              "          'When finished, click here or on the video to stop this demo</span>';\n",
              "      div.appendChild(instruction);\n",
              "      instruction.onclick = () => { shutdown = true; };\n",
              "      \n",
              "      video.srcObject = stream;\n",
              "      await video.play();\n",
              "\n",
              "      captureCanvas = document.createElement('canvas');\n",
              "      captureCanvas.width = 320; //video.videoWidth;\n",
              "      captureCanvas.height = 240; //video.videoHeight;\n",
              "      window.requestAnimationFrame(onAnimationFrame);\n",
              "      \n",
              "      return stream;\n",
              "    }\n",
              "    async function stream_frame(label, imgData) {\n",
              "      if (shutdown) {\n",
              "        removeDom();\n",
              "        shutdown = false;\n",
              "        return '';\n",
              "      }\n",
              "\n",
              "      var preCreate = Date.now();\n",
              "      stream = await createDom();\n",
              "      \n",
              "      var preShow = Date.now();\n",
              "      if (label != \"\") {\n",
              "        labelElement.innerHTML = label;\n",
              "      }\n",
              "            \n",
              "      if (imgData != \"\") {\n",
              "        var videoRect = video.getClientRects()[0];\n",
              "        imgElement.style.top = videoRect.top + \"px\";\n",
              "        imgElement.style.left = videoRect.left + \"px\";\n",
              "        imgElement.style.width = videoRect.width + \"px\";\n",
              "        imgElement.style.height = videoRect.height + \"px\";\n",
              "        imgElement.src = imgData;\n",
              "      }\n",
              "      \n",
              "      var preCapture = Date.now();\n",
              "      var result = await new Promise(function(resolve, reject) {\n",
              "        pendingResolve = resolve;\n",
              "      });\n",
              "      shutdown = false;\n",
              "      \n",
              "      return {'create': preShow - preCreate, \n",
              "              'show': preCapture - preShow, \n",
              "              'capture': Date.now() - preCapture,\n",
              "              'img': result};\n",
              "    }\n",
              "    "
            ],
            "text/plain": [
              "<IPython.core.display.Javascript object>"
            ]
          },
          "metadata": {
            "tags": []
          }
        }
      ]
    },
    {
      "cell_type": "markdown",
      "metadata": {
        "id": "4MMLhv4fge8W"
      },
      "source": [
        "### **Offline**"
      ]
    },
    {
      "cell_type": "code",
      "metadata": {
        "id": "tr-8mQJB8eBC"
      },
      "source": [
        "import cv2\n",
        "from matplotlib import pyplot as plt"
      ],
      "execution_count": null,
      "outputs": []
    },
    {
      "cell_type": "code",
      "metadata": {
        "id": "GGHJb4QnGB81"
      },
      "source": [
        "font = cv2.FONT_HERSHEY_SIMPLEX\n",
        "  \n",
        "# org\n",
        "org = (50, 50)\n",
        "  \n",
        "# fontScale\n",
        "fontScale = 1\n",
        "   \n",
        "# Blue color in BGR\n",
        "color = (255, 0, 0)\n",
        "  \n",
        "# Line thickness of 2 px\n",
        "thickness = 2\n",
        "   "
      ],
      "execution_count": null,
      "outputs": []
    },
    {
      "cell_type": "code",
      "metadata": {
        "id": "tET9KiVYSIPE"
      },
      "source": [
        "predicted_images_path=[]\n",
        "Path_name='/content/try3/videoplayback.mp4'\n",
        "vidcap = cv2.VideoCapture(Path_name)\n",
        "def getFrame(sec):\n",
        "    vidcap.set(cv2.CAP_PROP_POS_MSEC,sec*1000)\n",
        "    hasFrames,image = vidcap.read()\n",
        "\n",
        "    if hasFrames:\n",
        "        image = cv2.resize(image,(320,240))\n",
        "        image= image.reshape(1,240,320,3)\n",
        "        a=cnn.predict(image)\n",
        "        value=a.argmax()\n",
        "        image= image.reshape(240,320,3)\n",
        "        if classes[value]==\"Shoplifting\":\n",
        "            image = cv2.putText(image,classes[value] , org, font, fontScale, (0, 0, 255), thickness, cv2.LINE_AA) \n",
        "        else:\n",
        "            image = cv2.putText(image,classes[value] , org, font, fontScale, (0, 255, 0), thickness, cv2.LINE_AA)\n",
        "        #print(\"Normal\")    \n",
        "        plt.imshow(image)\n",
        "        plt.show()\n",
        "        s=Path_name+''+str(count)+\".jpg\"  \n",
        "        cv2.imwrite(s,image)\n",
        "        predicted_images_path.append(s)\n",
        "        #cv2.imwrite(str(count)+\".jpg\",image)    \n",
        "    return hasFrames\n",
        "    \n",
        "sec = 0\n",
        "frameRate = 0.5 #//it will capture image in each 0.5 second\n",
        "count=1\n",
        "success = getFrame(sec)\n",
        "while success:\n",
        "  #if count<50:\n",
        "    count = count + 1\n",
        "    sec = sec + frameRate\n",
        "    sec = round(sec, 2)\n",
        "    success = getFrame(sec)\n",
        "  #else:\n",
        "   # break  "
      ],
      "execution_count": null,
      "outputs": []
    },
    {
      "cell_type": "code",
      "metadata": {
        "id": "pSMaMSjzbHns"
      },
      "source": [
        "cd try"
      ],
      "execution_count": null,
      "outputs": []
    },
    {
      "cell_type": "code",
      "metadata": {
        "id": "eWuU6fHWYp-L"
      },
      "source": [
        "\n",
        "import cv2\n",
        "import numpy as np\n",
        "import glob\n",
        " \n",
        "img_array = []\n",
        "for filename in range(len(predicted_images_path)):\n",
        "    img = cv2.imread(predicted_images_path[filename])\n",
        "    height, width, layers = img.shape\n",
        "    size = (width,height)\n",
        "    img_array.append(img)\n",
        " \n",
        " \n",
        "out = cv2.VideoWriter('project3.avi',cv2.VideoWriter_fourcc(*'DIVX'), 15, size)\n",
        " \n",
        "for i in range(len(img_array)):\n",
        "    out.write(img_array[i])\n",
        "out.release()"
      ],
      "execution_count": null,
      "outputs": []
    },
    {
      "cell_type": "code",
      "metadata": {
        "id": "2rQszzOUaoXp"
      },
      "source": [
        "!ffmpeg -i project3.avi output3.mp4"
      ],
      "execution_count": null,
      "outputs": []
    },
    {
      "cell_type": "code",
      "metadata": {
        "id": "AhOcPugnLVdE"
      },
      "source": [
        "from IPython.display import HTML\n",
        "from base64 import b64encode\n",
        "mp4 = open('/content/try/output1.mp4','rb').read()\n",
        "data_url = \"data:video/mp4;base64,\" + b64encode(mp4).decode()\n",
        "HTML(\"\"\"\n",
        "<video width=400 controls>\n",
        "      <source src=\"%s\" type=\"video/mp4\">\n",
        "      <h1>ABC</h1>\n",
        "</video>\n",
        "\"\"\" % data_url)"
      ],
      "execution_count": null,
      "outputs": []
    },
    {
      "cell_type": "code",
      "metadata": {
        "id": "s6UR0t9IHTor"
      },
      "source": [
        "from IPython.display import HTML\n",
        "from base64 import b64encode\n",
        "mp4 = open('/content/try/output2.mp4','rb').read()\n",
        "data_url = \"data:video/mp4;base64,\" + b64encode(mp4).decode()\n",
        "HTML(\"\"\"\n",
        "<video width=400 controls>\n",
        "      <source src=\"%s\" type=\"video/mp4\">\n",
        "      <h1>ABC</h1>\n",
        "</video>\n",
        "\"\"\" % data_url)"
      ],
      "execution_count": null,
      "outputs": []
    },
    {
      "cell_type": "code",
      "metadata": {
        "id": "I-GMME7HHT4I"
      },
      "source": [
        "from IPython.display import HTML\n",
        "from base64 import b64encode\n",
        "mp4 = open('/content/try/output3.mp4','rb').read()\n",
        "data_url = \"data:video/mp4;base64,\" + b64encode(mp4).decode()\n",
        "HTML(\"\"\"\n",
        "<video width=400 controls>\n",
        "      <source src=\"%s\" type=\"video/mp4\">\n",
        "      <h1>ABC</h1>\n",
        "</video>\n",
        "\"\"\" % data_url)"
      ],
      "execution_count": null,
      "outputs": []
    },
    {
      "cell_type": "code",
      "metadata": {
        "id": "Qa8xIfNSzCX1"
      },
      "source": [
        "!rm -rf '/content/try1'"
      ],
      "execution_count": null,
      "outputs": []
    }
  ]
}